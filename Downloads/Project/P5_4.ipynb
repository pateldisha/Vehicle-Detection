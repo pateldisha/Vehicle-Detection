{
 "cells": [
  {
   "cell_type": "code",
   "execution_count": 1,
   "metadata": {},
   "outputs": [],
   "source": [
    "import glob\n",
    "import time\n",
    "import cv2\n",
    "import numpy as np\n",
    "import matplotlib.image as mpimg\n",
    "import matplotlib.pyplot as plt\n",
    "from skimage.feature import hog\n",
    "from sklearn.model_selection import train_test_split\n",
    "from sklearn.svm import LinearSVC\n",
    "from sklearn import svm\n",
    "from sklearn.svm import SVC\n",
    "from sklearn.preprocessing import StandardScaler\n",
    "from skimage.feature import hog\n",
    "from scipy import misc\n",
    "from sklearn.utils import shuffle\n",
    "from scipy.ndimage.measurements import label\n",
    "from sklearn.model_selection import GridSearchCV\n",
    "\n",
    "%matplotlib inline"
   ]
  },
  {
   "cell_type": "code",
   "execution_count": 3,
   "metadata": {},
   "outputs": [],
   "source": [
    "# %load functions.py\n",
    "\n",
    "from functions6 import *"
   ]
  },
  {
   "cell_type": "code",
   "execution_count": null,
   "metadata": {},
   "outputs": [],
   "source": []
  },
  {
   "cell_type": "code",
   "execution_count": 4,
   "metadata": {},
   "outputs": [],
   "source": [
    "images = glob.glob('non-vehicles/**/*.png')\n",
    "images2 = glob.glob('vehicles/**/*.png')\n",
    "cars = []\n",
    "notcars = []\n",
    "\n",
    "for image in images:\n",
    "    notcars.append(image)\n",
    "    \n",
    "for image in images2:\n",
    "    cars.append(image)"
   ]
  },
  {
   "cell_type": "code",
   "execution_count": 5,
   "metadata": {},
   "outputs": [],
   "source": [
    "### TODO: Tweak these parameters and see how the results change.\n",
    "colorspace = 'YCrCb' # Can be RGB, HSV, LUV, HLS, YUV, YCrCb\n",
    "orient = 11  # HOG orientations\n",
    "pix_per_cell = 16 # HOG pixels per cell\n",
    "cell_per_block = 2 # HOG cells per block\n",
    "hog_channel = \"ALL\" # Can be 0, 1, 2, or \"ALL\"\n",
    "spatial_size = (16, 16) # Spatial binning dimensions\n",
    "hist_bins = 16    # Number of histogram bins\n",
    "spatial_feat = False # Spatial features on or off\n",
    "hist_feat = False # Histogram features on or off\n",
    "hog_feat = True # HOG features on or off\n",
    "y_start_stop = [None, None] # Min and max in y to search in slide_window()"
   ]
  },
  {
   "cell_type": "code",
   "execution_count": 6,
   "metadata": {},
   "outputs": [],
   "source": [
    "#ystart = 400\n",
    "#ystop = 656\n",
    "#scale = 1.5\n",
    "#scales         = [1, 1.5, 2]\n",
    "#y_start_stop  = [[380, 460], [380, 560], [380, 620]]\n",
    "\n",
    "scales = [1,1.5,1.5]\n",
    "y_start_stop = [[400,480], [400, 520], [400, 600], [400, 656]]"
   ]
  },
  {
   "cell_type": "code",
   "execution_count": 7,
   "metadata": {},
   "outputs": [
    {
     "name": "stderr",
     "output_type": "stream",
     "text": [
      "100%|█████████████████████████████████████████████████████████████████████████████| 8792/8792 [00:29<00:00, 294.34it/s]\n",
      "100%|█████████████████████████████████████████████████████████████████████████████| 8968/8968 [00:32<00:00, 277.67it/s]\n"
     ]
    },
    {
     "name": "stdout",
     "output_type": "stream",
     "text": [
      "62.22 Seconds to extract HOG features...\n"
     ]
    }
   ],
   "source": [
    "t=time.time()\n",
    "car_features = extract_features(cars, cspace=colorspace, orient=orient, \n",
    "                        pix_per_cell=pix_per_cell, cell_per_block=cell_per_block, \n",
    "                        hog_channel=hog_channel)\n",
    "notcar_features = extract_features(notcars, cspace=colorspace, orient=orient, \n",
    "                        pix_per_cell=pix_per_cell, cell_per_block=cell_per_block, \n",
    "                        hog_channel=hog_channel)\n",
    "t2 = time.time()\n",
    "print(round(t2-t, 2), 'Seconds to extract HOG features...')"
   ]
  },
  {
   "cell_type": "code",
   "execution_count": 9,
   "metadata": {
    "scrolled": true
   },
   "outputs": [
    {
     "name": "stdout",
     "output_type": "stream",
     "text": [
      "Using: 11 orientations 16 pixels per cell and 2 cells per block\n",
      "Feature vector length: 1188\n",
      "7.05 Seconds to train SVC...\n",
      "Test Accuracy of SVC =  0.9704\n",
      "My SVC predicts:  [0. 1. 0. 0. 1. 0. 0. 1. 0. 0.]\n",
      "For these 10 labels:  [0. 1. 0. 0. 1. 0. 0. 1. 0. 0.]\n",
      "0.03903 Seconds to predict 10 labels with SVC\n"
     ]
    }
   ],
   "source": [
    "# Create an array stack of feature vectors\n",
    "X = np.vstack((car_features, notcar_features)).astype(np.float64)\n",
    "\n",
    "# Define the labels vector\n",
    "y = np.hstack((np.ones(len(car_features)), np.zeros(len(notcar_features))))\n",
    "\n",
    "# Split up data into randomized training and test sets\n",
    "rand_state = np.random.randint(0, 100)\n",
    "X_train, X_test, y_train, y_test = train_test_split(\n",
    "    X, y, test_size=0.2, random_state=rand_state)\n",
    "    \n",
    "# Fit a per-column scaler\n",
    "X_scaler = StandardScaler().fit(X_train)\n",
    "# Apply the scaler to X\n",
    "X_train = X_scaler.transform(X_train)\n",
    "X_test = X_scaler.transform(X_test)\n",
    "\n",
    "print('Using:',orient,'orientations',pix_per_cell,\n",
    "    'pixels per cell and', cell_per_block,'cells per block')\n",
    "print('Feature vector length:', len(X_train[0]))\n",
    "\n",
    "# Use a linear SVC \n",
    "svc = LinearSVC()\n",
    "# Check the training time for the SVC\n",
    "t=time.time()\n",
    "svc.fit(X_train, y_train)\n",
    "t2 = time.time()\n",
    "print(round(t2-t, 2), 'Seconds to train SVC...')\n",
    "# Check the score of the SVC\n",
    "print('Test Accuracy of SVC = ', round(svc.score(X_test, y_test), 4))\n",
    "# Check the prediction time for a single sample\n",
    "t=time.time()\n",
    "n_predict = 10\n",
    "print('My SVC predicts: ', svc.predict(X_test[0:n_predict]))\n",
    "print('For these',n_predict, 'labels: ', y_test[0:n_predict])\n",
    "t2 = time.time()\n",
    "print(round(t2-t, 5), 'Seconds to predict', n_predict,'labels with SVC')"
   ]
  },
  {
   "cell_type": "code",
   "execution_count": 10,
   "metadata": {},
   "outputs": [],
   "source": [
    "def pipeline(image):\n",
    "    boxes_list, out_img = find_cars(image,y_start_stop, scales, svc, X_scaler, orient, pix_per_cell, cell_per_block, spatial_size, hist_bins)\n",
    "    heat = np.zeros_like(image[:,:,0]).astype(np.float)\n",
    "    # Add heat to each box in box list\n",
    "    heat = add_heat(heat,boxes_list)\n",
    "    \n",
    "    # Apply threshold to help remove false positives\n",
    "    heat = apply_threshold(heat,1)\n",
    "\n",
    "    # Visualize the heatmap when displaying    \n",
    "    heatmap = np.clip(heat, 0, 255)\n",
    "    labels = label(heatmap)\n",
    "    draw_img = draw_labeled_bboxes(np.copy(image), labels)\n",
    "    \n",
    "    return draw_img"
   ]
  },
  {
   "cell_type": "code",
   "execution_count": 12,
   "metadata": {},
   "outputs": [
    {
     "name": "stdout",
     "output_type": "stream",
     "text": [
      "Pix per cell  16\n",
      "Cell per block  2\n",
      "Pix per cell  16\n",
      "Cell per block  2\n",
      "Pix per cell  16\n",
      "Cell per block  2\n"
     ]
    },
    {
     "data": {
      "text/plain": [
       "<matplotlib.image.AxesImage at 0x2966b89cc50>"
      ]
     },
     "execution_count": 12,
     "metadata": {},
     "output_type": "execute_result"
    },
    {
     "data": {
      "image/png": "[encoded data removed]",
      "text/plain": [
       "<matplotlib.figure.Figure at 0x29673c92710>"
      ]
     },
     "metadata": {},
     "output_type": "display_data"
    }
   ],
   "source": [
    "image = mpimg.imread('test_images/test6.jpg')\n",
    "img = pipeline(image)\n",
    "\n",
    "#plt.imshow(heatmap)\n",
    "plt.imshow(img)\n",
    "\n",
    "#cv2.imwrite('output_images/test2.jpg',img)"
   ]
  },
  {
   "cell_type": "code",
   "execution_count": 10,
   "metadata": {},
   "outputs": [
    {
     "data": {
      "text/plain": [
       "<matplotlib.image.AxesImage at 0x2875e1cf048>"
      ]
     },
     "execution_count": 10,
     "metadata": {},
     "output_type": "execute_result"
    },
    {
     "data": {
      "image/png": "[encoded data removed]",
      "text/plain": [
       "<matplotlib.figure.Figure at 0x28736e85438>"
      ]
     },
     "metadata": {},
     "output_type": "display_data"
    }
   ],
   "source": [
    "plt.imshow(img)"
   ]
  },
  {
   "cell_type": "code",
   "execution_count": 87,
   "metadata": {},
   "outputs": [],
   "source": [
    "image = mpimg.imread('test_images/test6.jpg')\n",
    "boxes_list, out_img = find_cars(image, ystart, ystop, scale, svc, X_scaler, orient, pix_per_cell, cell_per_block, spatial_size, hist_bins)"
   ]
  },
  {
   "cell_type": "code",
   "execution_count": 94,
   "metadata": {},
   "outputs": [],
   "source": [
    "\n",
    "heat = np.zeros_like(image[:,:,0]).astype(np.float)\n",
    "# Add heat to each box in box list\n",
    "heat = add_heat(heat,boxes_list)\n",
    "    \n",
    "# Apply threshold to help remove false positives\n",
    "heat = apply_threshold(heat,3)\n",
    "\n",
    "# Visualize the heatmap when displaying    \n",
    "heatmap = np.clip(heat, 0, 255)\n",
    "labels = label(heatmap)\n",
    "draw_img = draw_labeled_bboxes(np.copy(image), labels)"
   ]
  },
  {
   "cell_type": "code",
   "execution_count": 95,
   "metadata": {},
   "outputs": [
    {
     "data": {
      "image/png": "[encoded data removed]",
      "text/plain": [
       "<matplotlib.figure.Figure at 0x18d910ed6a0>"
      ]
     },
     "metadata": {},
     "output_type": "display_data"
    }
   ],
   "source": [
    "fig = plt.figure()\n",
    "plt.subplot(121)\n",
    "plt.imshow(draw_img)\n",
    "plt.title('Car Positions')\n",
    "plt.subplot(122)\n",
    "plt.imshow(heatmap, cmap='hot')\n",
    "plt.title('Heat Map')\n",
    "fig.tight_layout()\n"
   ]
  },
  {
   "cell_type": "code",
   "execution_count": 15,
   "metadata": {
    "scrolled": true
   },
   "outputs": [
    {
     "name": "stdout",
     "output_type": "stream",
     "text": [
      "Pix per cell  16\n",
      "Cell per block  2\n",
      "Pix per cell  16\n",
      "Cell per block  2\n",
      "Pix per cell  16\n",
      "Cell per block  2\n",
      "[MoviePy] >>>> Building video project_video_out.mp4\n",
      "[MoviePy] Writing video project_video_out.mp4\n"
     ]
    },
    {
     "name": "stderr",
     "output_type": "stream",
     "text": [
      "\r",
      "  0%|                                                                                          | 0/126 [00:00<?, ?it/s]"
     ]
    },
    {
     "name": "stdout",
     "output_type": "stream",
     "text": [
      "Pix per cell  16\n",
      "Cell per block  2\n",
      "Pix per cell  16\n",
      "Cell per block  2\n",
      "Pix per cell  16\n",
      "Cell per block  2\n"
     ]
    },
    {
     "name": "stderr",
     "output_type": "stream",
     "text": [
      "\r",
      "  1%|▋                                                                                 | 1/126 [00:01<02:06,  1.01s/it]"
     ]
    },
    {
     "name": "stdout",
     "output_type": "stream",
     "text": [
      "Pix per cell  16\n",
      "Cell per block  2\n",
      "Pix per cell  16\n",
      "Cell per block  2\n",
      "Pix per cell  16\n",
      "Cell per block  2\n"
     ]
    },
    {
     "name": "stderr",
     "output_type": "stream",
     "text": [
      "\r",
      "  2%|█▎                                                                                | 2/126 [00:01<02:00,  1.03it/s]"
     ]
    },
    {
     "name": "stdout",
     "output_type": "stream",
     "text": [
      "Pix per cell  16\n",
      "Cell per block  2\n",
      "Pix per cell  16\n",
      "Cell per block  2\n",
      "Pix per cell  16\n",
      "Cell per block  2\n"
     ]
    },
    {
     "name": "stderr",
     "output_type": "stream",
     "text": [
      "\r",
      "  2%|█▉                                                                                | 3/126 [00:02<01:56,  1.05it/s]"
     ]
    },
    {
     "name": "stdout",
     "output_type": "stream",
     "text": [
      "Pix per cell  16\n",
      "Cell per block  2\n",
      "Pix per cell  16\n",
      "Cell per block  2\n",
      "Pix per cell  16\n",
      "Cell per block  2\n"
     ]
    },
    {
     "name": "stderr",
     "output_type": "stream",
     "text": [
      "\r",
      "  3%|██▌                                                                               | 4/126 [00:03<01:56,  1.05it/s]"
     ]
    },
    {
     "name": "stdout",
     "output_type": "stream",
     "text": [
      "Pix per cell  16\n",
      "Cell per block  2\n",
      "Pix per cell  16\n",
      "Cell per block  2\n",
      "Pix per cell  16\n",
      "Cell per block  2\n"
     ]
    },
    {
     "name": "stderr",
     "output_type": "stream",
     "text": [
      "\r",
      "  4%|███▎                                                                              | 5/126 [00:04<01:56,  1.04it/s]"
     ]
    },
    {
     "name": "stdout",
     "output_type": "stream",
     "text": [
      "Pix per cell  16\n",
      "Cell per block  2\n",
      "Pix per cell  16\n",
      "Cell per block  2\n",
      "Pix per cell  16\n",
      "Cell per block  2\n"
     ]
    },
    {
     "name": "stderr",
     "output_type": "stream",
     "text": [
      "\r",
      "  5%|███▉                                                                              | 6/126 [00:05<01:54,  1.05it/s]"
     ]
    },
    {
     "name": "stdout",
     "output_type": "stream",
     "text": [
      "Pix per cell  16\n",
      "Cell per block  2\n",
      "Pix per cell  16\n",
      "Cell per block  2\n",
      "Pix per cell  16\n",
      "Cell per block  2\n"
     ]
    },
    {
     "name": "stderr",
     "output_type": "stream",
     "text": [
      "\r",
      "  6%|████▌                                                                             | 7/126 [00:06<01:53,  1.05it/s]"
     ]
    },
    {
     "name": "stdout",
     "output_type": "stream",
     "text": [
      "Pix per cell  16\n",
      "Cell per block  2\n",
      "Pix per cell  16\n",
      "Cell per block  2\n",
      "Pix per cell  16\n",
      "Cell per block  2\n"
     ]
    },
    {
     "name": "stderr",
     "output_type": "stream",
     "text": [
      "\r",
      "  6%|█████▏                                                                            | 8/126 [00:07<01:49,  1.08it/s]"
     ]
    },
    {
     "name": "stdout",
     "output_type": "stream",
     "text": [
      "Pix per cell  16\n",
      "Cell per block  2\n",
      "Pix per cell  16\n",
      "Cell per block  2\n",
      "Pix per cell  16\n",
      "Cell per block  2\n"
     ]
    },
    {
     "name": "stderr",
     "output_type": "stream",
     "text": [
      "\r",
      "  7%|█████▊                                                                            | 9/126 [00:08<01:46,  1.09it/s]"
     ]
    },
    {
     "name": "stdout",
     "output_type": "stream",
     "text": [
      "Pix per cell  16\n",
      "Cell per block  2\n",
      "Pix per cell  16\n",
      "Cell per block  2\n",
      "Pix per cell  16\n",
      "Cell per block  2\n"
     ]
    },
    {
     "name": "stderr",
     "output_type": "stream",
     "text": [
      "\r",
      "  8%|██████▍                                                                          | 10/126 [00:09<01:48,  1.07it/s]"
     ]
    },
    {
     "name": "stdout",
     "output_type": "stream",
     "text": [
      "Pix per cell  16\n",
      "Cell per block  2\n",
      "Pix per cell  16\n",
      "Cell per block  2\n",
      "Pix per cell  16\n",
      "Cell per block  2\n"
     ]
    },
    {
     "name": "stderr",
     "output_type": "stream",
     "text": [
      "\r",
      "  9%|███████                                                                          | 11/126 [00:10<01:47,  1.07it/s]"
     ]
    },
    {
     "name": "stdout",
     "output_type": "stream",
     "text": [
      "Pix per cell  16\n",
      "Cell per block  2\n",
      "Pix per cell  16\n",
      "Cell per block  2\n",
      "Pix per cell  16\n",
      "Cell per block  2\n"
     ]
    },
    {
     "name": "stderr",
     "output_type": "stream",
     "text": [
      "\r",
      " 10%|███████▋                                                                         | 12/126 [00:11<01:45,  1.08it/s]"
     ]
    },
    {
     "name": "stdout",
     "output_type": "stream",
     "text": [
      "Pix per cell  16\n",
      "Cell per block  2\n",
      "Pix per cell  16\n",
      "Cell per block  2\n",
      "Pix per cell  16\n",
      "Cell per block  2\n"
     ]
    },
    {
     "name": "stderr",
     "output_type": "stream",
     "text": [
      "\r",
      " 10%|████████▎                                                                        | 13/126 [00:12<01:44,  1.08it/s]"
     ]
    },
    {
     "name": "stdout",
     "output_type": "stream",
     "text": [
      "Pix per cell  16\n",
      "Cell per block  2\n",
      "Pix per cell  16\n",
      "Cell per block  2\n",
      "Pix per cell  16\n",
      "Cell per block  2\n"
     ]
    },
    {
     "name": "stderr",
     "output_type": "stream",
     "text": [
      "\r",
      " 11%|█████████                                                                        | 14/126 [00:12<01:41,  1.10it/s]"
     ]
    },
    {
     "name": "stdout",
     "output_type": "stream",
     "text": [
      "Pix per cell  16\n",
      "Cell per block  2\n",
      "Pix per cell  16\n",
      "Cell per block  2\n",
      "Pix per cell  16\n",
      "Cell per block  2\n"
     ]
    },
    {
     "name": "stderr",
     "output_type": "stream",
     "text": [
      "\r",
      " 12%|█████████▋                                                                       | 15/126 [00:13<01:40,  1.11it/s]"
     ]
    },
    {
     "name": "stdout",
     "output_type": "stream",
     "text": [
      "Pix per cell  16\n",
      "Cell per block  2\n",
      "Pix per cell  16\n",
      "Cell per block  2\n",
      "Pix per cell  16\n",
      "Cell per block  2\n"
     ]
    },
    {
     "name": "stderr",
     "output_type": "stream",
     "text": [
      "\r",
      " 13%|██████████▎                                                                      | 16/126 [00:14<01:38,  1.11it/s]"
     ]
    },
    {
     "name": "stdout",
     "output_type": "stream",
     "text": [
      "Pix per cell  16\n",
      "Cell per block  2\n",
      "Pix per cell  16\n",
      "Cell per block  2\n",
      "Pix per cell  16\n",
      "Cell per block  2\n"
     ]
    },
    {
     "name": "stderr",
     "output_type": "stream",
     "text": [
      "\r",
      " 13%|██████████▉                                                                      | 17/126 [00:15<01:37,  1.11it/s]"
     ]
    },
    {
     "name": "stdout",
     "output_type": "stream",
     "text": [
      "Pix per cell  16\n",
      "Cell per block  2\n",
      "Pix per cell  16\n",
      "Cell per block  2\n",
      "Pix per cell  16\n",
      "Cell per block  2\n"
     ]
    },
    {
     "name": "stderr",
     "output_type": "stream",
     "text": [
      "\r",
      " 14%|███████████▌                                                                     | 18/126 [00:16<01:36,  1.12it/s]"
     ]
    },
    {
     "name": "stdout",
     "output_type": "stream",
     "text": [
      "Pix per cell  16\n",
      "Cell per block  2\n",
      "Pix per cell  16\n",
      "Cell per block  2\n",
      "Pix per cell  16\n",
      "Cell per block  2\n"
     ]
    },
    {
     "name": "stderr",
     "output_type": "stream",
     "text": [
      "\r",
      " 15%|████████████▏                                                                    | 19/126 [00:17<01:37,  1.10it/s]"
     ]
    },
    {
     "name": "stdout",
     "output_type": "stream",
     "text": [
      "Pix per cell  16\n",
      "Cell per block  2\n",
      "Pix per cell  16\n",
      "Cell per block  2\n",
      "Pix per cell  16\n",
      "Cell per block  2\n"
     ]
    },
    {
     "name": "stderr",
     "output_type": "stream",
     "text": [
      "\r",
      " 16%|████████████▊                                                                    | 20/126 [00:18<01:38,  1.08it/s]"
     ]
    },
    {
     "name": "stdout",
     "output_type": "stream",
     "text": [
      "Pix per cell  16\n",
      "Cell per block  2\n",
      "Pix per cell  16\n",
      "Cell per block  2\n",
      "Pix per cell  16\n",
      "Cell per block  2\n"
     ]
    },
    {
     "name": "stderr",
     "output_type": "stream",
     "text": [
      "\r",
      " 17%|█████████████▌                                                                   | 21/126 [00:19<01:36,  1.09it/s]"
     ]
    },
    {
     "name": "stdout",
     "output_type": "stream",
     "text": [
      "Pix per cell  16\n",
      "Cell per block  2\n",
      "Pix per cell  16\n",
      "Cell per block  2\n",
      "Pix per cell  16\n",
      "Cell per block  2\n"
     ]
    },
    {
     "name": "stderr",
     "output_type": "stream",
     "text": [
      "\r",
      " 17%|██████████████▏                                                                  | 22/126 [00:20<01:33,  1.11it/s]"
     ]
    },
    {
     "name": "stdout",
     "output_type": "stream",
     "text": [
      "Pix per cell  16\n",
      "Cell per block  2\n",
      "Pix per cell  16\n",
      "Cell per block  2\n",
      "Pix per cell  16\n",
      "Cell per block  2\n"
     ]
    },
    {
     "name": "stderr",
     "output_type": "stream",
     "text": [
      "\r",
      " 18%|██████████████▊                                                                  | 23/126 [00:21<01:32,  1.12it/s]"
     ]
    },
    {
     "name": "stdout",
     "output_type": "stream",
     "text": [
      "Pix per cell  16\n",
      "Cell per block  2\n",
      "Pix per cell  16\n",
      "Cell per block  2\n",
      "Pix per cell  16\n",
      "Cell per block  2\n"
     ]
    },
    {
     "name": "stderr",
     "output_type": "stream",
     "text": [
      "\r",
      " 19%|███████████████▍                                                                 | 24/126 [00:22<01:31,  1.11it/s]"
     ]
    },
    {
     "name": "stdout",
     "output_type": "stream",
     "text": [
      "Pix per cell  16\n",
      "Cell per block  2\n",
      "Pix per cell  16\n",
      "Cell per block  2\n",
      "Pix per cell  16\n",
      "Cell per block  2\n"
     ]
    },
    {
     "name": "stderr",
     "output_type": "stream",
     "text": [
      "\r",
      " 20%|████████████████                                                                 | 25/126 [00:22<01:31,  1.10it/s]"
     ]
    },
    {
     "name": "stdout",
     "output_type": "stream",
     "text": [
      "Pix per cell  16\n",
      "Cell per block  2\n",
      "Pix per cell  16\n",
      "Cell per block  2\n",
      "Pix per cell  16\n",
      "Cell per block  2\n"
     ]
    },
    {
     "name": "stderr",
     "output_type": "stream",
     "text": [
      "\r",
      " 21%|████████████████▋                                                                | 26/126 [00:23<01:32,  1.08it/s]"
     ]
    },
    {
     "name": "stdout",
     "output_type": "stream",
     "text": [
      "Pix per cell  16\n",
      "Cell per block  2\n",
      "Pix per cell  16\n",
      "Cell per block  2\n",
      "Pix per cell  16\n",
      "Cell per block  2\n"
     ]
    },
    {
     "name": "stderr",
     "output_type": "stream",
     "text": [
      "\r",
      " 21%|█████████████████▎                                                               | 27/126 [00:24<01:30,  1.09it/s]"
     ]
    },
    {
     "name": "stdout",
     "output_type": "stream",
     "text": [
      "Pix per cell  16\n",
      "Cell per block  2\n",
      "Pix per cell  16\n",
      "Cell per block  2\n",
      "Pix per cell  16\n",
      "Cell per block  2\n"
     ]
    },
    {
     "name": "stderr",
     "output_type": "stream",
     "text": [
      "\r",
      " 22%|██████████████████                                                               | 28/126 [00:25<01:28,  1.11it/s]"
     ]
    },
    {
     "name": "stdout",
     "output_type": "stream",
     "text": [
      "Pix per cell  16\n",
      "Cell per block  2\n",
      "Pix per cell  16\n",
      "Cell per block  2\n",
      "Pix per cell  16\n",
      "Cell per block  2\n"
     ]
    },
    {
     "name": "stderr",
     "output_type": "stream",
     "text": [
      "\r",
      " 23%|██████████████████▋                                                              | 29/126 [00:26<01:26,  1.13it/s]"
     ]
    },
    {
     "name": "stdout",
     "output_type": "stream",
     "text": [
      "Pix per cell  16\n",
      "Cell per block  2\n",
      "Pix per cell  16\n",
      "Cell per block  2\n",
      "Pix per cell  16\n",
      "Cell per block  2\n"
     ]
    },
    {
     "name": "stderr",
     "output_type": "stream",
     "text": [
      "\r",
      " 24%|███████████████████▎                                                             | 30/126 [00:27<01:25,  1.12it/s]"
     ]
    },
    {
     "name": "stdout",
     "output_type": "stream",
     "text": [
      "Pix per cell  16\n",
      "Cell per block  2\n",
      "Pix per cell  16\n",
      "Cell per block  2\n",
      "Pix per cell  16\n",
      "Cell per block  2\n"
     ]
    },
    {
     "name": "stderr",
     "output_type": "stream",
     "text": [
      "\r",
      " 25%|███████████████████▉                                                             | 31/126 [00:28<01:24,  1.12it/s]"
     ]
    },
    {
     "name": "stdout",
     "output_type": "stream",
     "text": [
      "Pix per cell  16\n",
      "Cell per block  2\n",
      "Pix per cell  16\n",
      "Cell per block  2\n",
      "Pix per cell  16\n",
      "Cell per block  2\n"
     ]
    },
    {
     "name": "stderr",
     "output_type": "stream",
     "text": [
      "\r",
      " 25%|████████████████████▌                                                            | 32/126 [00:29<01:22,  1.13it/s]"
     ]
    },
    {
     "name": "stdout",
     "output_type": "stream",
     "text": [
      "Pix per cell  16\n",
      "Cell per block  2\n",
      "Pix per cell  16\n",
      "Cell per block  2\n",
      "Pix per cell  16\n",
      "Cell per block  2\n"
     ]
    },
    {
     "name": "stderr",
     "output_type": "stream",
     "text": [
      "\r",
      " 26%|█████████████████████▏                                                           | 33/126 [00:30<01:22,  1.13it/s]"
     ]
    },
    {
     "name": "stdout",
     "output_type": "stream",
     "text": [
      "Pix per cell  16\n",
      "Cell per block  2\n",
      "Pix per cell  16\n",
      "Cell per block  2\n",
      "Pix per cell  16\n",
      "Cell per block  2\n"
     ]
    },
    {
     "name": "stderr",
     "output_type": "stream",
     "text": [
      "\r",
      " 27%|█████████████████████▊                                                           | 34/126 [00:30<01:20,  1.15it/s]"
     ]
    },
    {
     "name": "stdout",
     "output_type": "stream",
     "text": [
      "Pix per cell  16\n",
      "Cell per block  2\n",
      "Pix per cell  16\n",
      "Cell per block  2\n",
      "Pix per cell  16\n",
      "Cell per block  2\n"
     ]
    },
    {
     "name": "stderr",
     "output_type": "stream",
     "text": [
      "\r",
      " 28%|██████████████████████▌                                                          | 35/126 [00:31<01:19,  1.14it/s]"
     ]
    },
    {
     "name": "stdout",
     "output_type": "stream",
     "text": [
      "Pix per cell  16\n",
      "Cell per block  2\n",
      "Pix per cell  16\n",
      "Cell per block  2\n",
      "Pix per cell  16\n",
      "Cell per block  2\n"
     ]
    },
    {
     "name": "stderr",
     "output_type": "stream",
     "text": [
      "\r",
      " 29%|███████████████████████▏                                                         | 36/126 [00:32<01:18,  1.14it/s]"
     ]
    },
    {
     "name": "stdout",
     "output_type": "stream",
     "text": [
      "Pix per cell  16\n",
      "Cell per block  2\n",
      "Pix per cell  16\n",
      "Cell per block  2\n",
      "Pix per cell  16\n",
      "Cell per block  2\n"
     ]
    },
    {
     "name": "stderr",
     "output_type": "stream",
     "text": [
      "\r",
      " 29%|███████████████████████▊                                                         | 37/126 [00:33<01:17,  1.16it/s]"
     ]
    },
    {
     "name": "stdout",
     "output_type": "stream",
     "text": [
      "Pix per cell  16\n",
      "Cell per block  2\n",
      "Pix per cell  16\n",
      "Cell per block  2\n",
      "Pix per cell  16\n",
      "Cell per block  2\n"
     ]
    },
    {
     "name": "stderr",
     "output_type": "stream",
     "text": [
      "\r",
      " 30%|████████████████████████▍                                                        | 38/126 [00:34<01:17,  1.13it/s]"
     ]
    },
    {
     "name": "stdout",
     "output_type": "stream",
     "text": [
      "Pix per cell  16\n",
      "Cell per block  2\n",
      "Pix per cell  16\n",
      "Cell per block  2\n",
      "Pix per cell  16\n",
      "Cell per block  2\n"
     ]
    },
    {
     "name": "stderr",
     "output_type": "stream",
     "text": [
      "\r",
      " 31%|█████████████████████████                                                        | 39/126 [00:35<01:18,  1.11it/s]"
     ]
    },
    {
     "name": "stdout",
     "output_type": "stream",
     "text": [
      "Pix per cell  16\n",
      "Cell per block  2\n",
      "Pix per cell  16\n",
      "Cell per block  2\n",
      "Pix per cell  16\n",
      "Cell per block  2\n"
     ]
    },
    {
     "name": "stderr",
     "output_type": "stream",
     "text": [
      "\r",
      " 32%|█████████████████████████▋                                                       | 40/126 [00:36<01:19,  1.08it/s]"
     ]
    },
    {
     "name": "stdout",
     "output_type": "stream",
     "text": [
      "Pix per cell  16\n",
      "Cell per block  2\n",
      "Pix per cell  16\n",
      "Cell per block  2\n",
      "Pix per cell  16\n",
      "Cell per block  2\n"
     ]
    },
    {
     "name": "stderr",
     "output_type": "stream",
     "text": [
      "\r",
      " 33%|██████████████████████████▎                                                      | 41/126 [00:37<01:19,  1.07it/s]"
     ]
    },
    {
     "name": "stdout",
     "output_type": "stream",
     "text": [
      "Pix per cell  16\n",
      "Cell per block  2\n",
      "Pix per cell  16\n",
      "Cell per block  2\n",
      "Pix per cell  16\n",
      "Cell per block  2\n"
     ]
    },
    {
     "name": "stderr",
     "output_type": "stream",
     "text": [
      "\r",
      " 33%|███████████████████████████                                                      | 42/126 [00:38<01:20,  1.04it/s]"
     ]
    },
    {
     "name": "stdout",
     "output_type": "stream",
     "text": [
      "Pix per cell  16\n",
      "Cell per block  2\n",
      "Pix per cell  16\n",
      "Cell per block  2\n",
      "Pix per cell  16\n",
      "Cell per block  2\n"
     ]
    },
    {
     "name": "stderr",
     "output_type": "stream",
     "text": [
      "\r",
      " 34%|███████████████████████████▋                                                     | 43/126 [00:39<01:24,  1.01s/it]"
     ]
    },
    {
     "name": "stdout",
     "output_type": "stream",
     "text": [
      "Pix per cell  16\n",
      "Cell per block  2\n",
      "Pix per cell  16\n",
      "Cell per block  2\n",
      "Pix per cell  16\n",
      "Cell per block  2\n"
     ]
    },
    {
     "name": "stderr",
     "output_type": "stream",
     "text": [
      "\r",
      " 35%|████████████████████████████▎                                                    | 44/126 [00:40<01:20,  1.02it/s]"
     ]
    },
    {
     "name": "stdout",
     "output_type": "stream",
     "text": [
      "Pix per cell  16\n",
      "Cell per block  2\n",
      "Pix per cell  16\n",
      "Cell per block  2\n",
      "Pix per cell  16\n",
      "Cell per block  2\n"
     ]
    },
    {
     "name": "stderr",
     "output_type": "stream",
     "text": [
      "\r",
      " 36%|████████████████████████████▉                                                    | 45/126 [00:41<01:16,  1.06it/s]"
     ]
    },
    {
     "name": "stdout",
     "output_type": "stream",
     "text": [
      "Pix per cell  16\n",
      "Cell per block  2\n",
      "Pix per cell  16\n",
      "Cell per block  2\n",
      "Pix per cell  16\n",
      "Cell per block  2\n"
     ]
    },
    {
     "name": "stderr",
     "output_type": "stream",
     "text": [
      "\r",
      " 37%|█████████████████████████████▌                                                   | 46/126 [00:42<01:20,  1.01s/it]"
     ]
    },
    {
     "name": "stdout",
     "output_type": "stream",
     "text": [
      "Pix per cell  16\n",
      "Cell per block  2\n",
      "Pix per cell  16\n",
      "Cell per block  2\n",
      "Pix per cell  16\n",
      "Cell per block  2\n"
     ]
    },
    {
     "name": "stderr",
     "output_type": "stream",
     "text": [
      "\r",
      " 37%|██████████████████████████████▏                                                  | 47/126 [00:43<01:21,  1.04s/it]"
     ]
    },
    {
     "name": "stdout",
     "output_type": "stream",
     "text": [
      "Pix per cell  16\n",
      "Cell per block  2\n",
      "Pix per cell  16\n",
      "Cell per block  2\n",
      "Pix per cell  16\n",
      "Cell per block  2\n"
     ]
    },
    {
     "name": "stderr",
     "output_type": "stream",
     "text": [
      "\r",
      " 38%|██████████████████████████████▊                                                  | 48/126 [00:44<01:19,  1.02s/it]"
     ]
    },
    {
     "name": "stdout",
     "output_type": "stream",
     "text": [
      "Pix per cell  16\n",
      "Cell per block  2\n",
      "Pix per cell  16\n",
      "Cell per block  2\n",
      "Pix per cell  16\n",
      "Cell per block  2\n"
     ]
    },
    {
     "name": "stderr",
     "output_type": "stream",
     "text": [
      "\r",
      " 39%|███████████████████████████████▌                                                 | 49/126 [00:45<01:16,  1.01it/s]"
     ]
    },
    {
     "name": "stdout",
     "output_type": "stream",
     "text": [
      "Pix per cell  16\n",
      "Cell per block  2\n",
      "Pix per cell  16\n",
      "Cell per block  2\n",
      "Pix per cell  16\n",
      "Cell per block  2\n"
     ]
    },
    {
     "name": "stderr",
     "output_type": "stream",
     "text": [
      "\r",
      " 40%|████████████████████████████████▏                                                | 50/126 [00:46<01:14,  1.02it/s]"
     ]
    },
    {
     "name": "stdout",
     "output_type": "stream",
     "text": [
      "Pix per cell  16\n",
      "Cell per block  2\n",
      "Pix per cell  16\n",
      "Cell per block  2\n",
      "Pix per cell  16\n",
      "Cell per block  2\n"
     ]
    },
    {
     "name": "stderr",
     "output_type": "stream",
     "text": [
      "\r",
      " 40%|████████████████████████████████▊                                                | 51/126 [00:47<01:12,  1.03it/s]"
     ]
    },
    {
     "name": "stdout",
     "output_type": "stream",
     "text": [
      "Pix per cell  16\n",
      "Cell per block  2\n",
      "Pix per cell  16\n",
      "Cell per block  2\n",
      "Pix per cell  16\n",
      "Cell per block  2\n"
     ]
    },
    {
     "name": "stderr",
     "output_type": "stream",
     "text": [
      "\r",
      " 41%|█████████████████████████████████▍                                               | 52/126 [00:48<01:12,  1.02it/s]"
     ]
    },
    {
     "name": "stdout",
     "output_type": "stream",
     "text": [
      "Pix per cell  16\n",
      "Cell per block  2\n",
      "Pix per cell  16\n",
      "Cell per block  2\n",
      "Pix per cell  16\n",
      "Cell per block  2\n"
     ]
    },
    {
     "name": "stderr",
     "output_type": "stream",
     "text": [
      "\r",
      " 42%|██████████████████████████████████                                               | 53/126 [00:49<01:10,  1.04it/s]"
     ]
    },
    {
     "name": "stdout",
     "output_type": "stream",
     "text": [
      "Pix per cell  16\n",
      "Cell per block  2\n",
      "Pix per cell  16\n",
      "Cell per block  2\n",
      "Pix per cell  16\n",
      "Cell per block  2\n"
     ]
    },
    {
     "name": "stderr",
     "output_type": "stream",
     "text": [
      "\r",
      " 43%|██████████████████████████████████▋                                              | 54/126 [00:50<01:07,  1.06it/s]"
     ]
    },
    {
     "name": "stdout",
     "output_type": "stream",
     "text": [
      "Pix per cell  16\n",
      "Cell per block  2\n",
      "Pix per cell  16\n",
      "Cell per block  2\n",
      "Pix per cell  16\n",
      "Cell per block  2\n"
     ]
    },
    {
     "name": "stderr",
     "output_type": "stream",
     "text": [
      "\r",
      " 44%|███████████████████████████████████▎                                             | 55/126 [00:51<01:08,  1.04it/s]"
     ]
    },
    {
     "name": "stdout",
     "output_type": "stream",
     "text": [
      "Pix per cell  16\n",
      "Cell per block  2\n",
      "Pix per cell  16\n",
      "Cell per block  2\n",
      "Pix per cell  16\n",
      "Cell per block  2\n"
     ]
    },
    {
     "name": "stderr",
     "output_type": "stream",
     "text": [
      "\r",
      " 44%|████████████████████████████████████                                             | 56/126 [00:52<01:08,  1.03it/s]"
     ]
    },
    {
     "name": "stdout",
     "output_type": "stream",
     "text": [
      "Pix per cell  16\n",
      "Cell per block  2\n",
      "Pix per cell  16\n",
      "Cell per block  2\n",
      "Pix per cell  16\n",
      "Cell per block  2\n"
     ]
    },
    {
     "name": "stderr",
     "output_type": "stream",
     "text": [
      "\r",
      " 45%|████████████████████████████████████▋                                            | 57/126 [00:53<01:05,  1.05it/s]"
     ]
    },
    {
     "name": "stdout",
     "output_type": "stream",
     "text": [
      "Pix per cell  16\n",
      "Cell per block  2\n",
      "Pix per cell  16\n",
      "Cell per block  2\n",
      "Pix per cell  16\n",
      "Cell per block  2\n"
     ]
    },
    {
     "name": "stderr",
     "output_type": "stream",
     "text": [
      "\r",
      " 46%|█████████████████████████████████████▎                                           | 58/126 [00:54<01:06,  1.02it/s]"
     ]
    },
    {
     "name": "stdout",
     "output_type": "stream",
     "text": [
      "Pix per cell  16\n",
      "Cell per block  2\n",
      "Pix per cell  16\n",
      "Cell per block  2\n",
      "Pix per cell  16\n",
      "Cell per block  2\n"
     ]
    },
    {
     "name": "stderr",
     "output_type": "stream",
     "text": [
      "\r",
      " 47%|█████████████████████████████████████▉                                           | 59/126 [00:55<01:07,  1.00s/it]"
     ]
    },
    {
     "name": "stdout",
     "output_type": "stream",
     "text": [
      "Pix per cell  16\n",
      "Cell per block  2\n",
      "Pix per cell  16\n",
      "Cell per block  2\n",
      "Pix per cell  16\n",
      "Cell per block  2\n"
     ]
    },
    {
     "name": "stderr",
     "output_type": "stream",
     "text": [
      "\r",
      " 48%|██████████████████████████████████████▌                                          | 60/126 [00:56<01:06,  1.01s/it]"
     ]
    },
    {
     "name": "stdout",
     "output_type": "stream",
     "text": [
      "Pix per cell  16\n",
      "Cell per block  2\n",
      "Pix per cell  16\n",
      "Cell per block  2\n",
      "Pix per cell  16\n",
      "Cell per block  2\n"
     ]
    },
    {
     "name": "stderr",
     "output_type": "stream",
     "text": [
      "\r",
      " 48%|███████████████████████████████████████▏                                         | 61/126 [00:57<01:08,  1.06s/it]"
     ]
    },
    {
     "name": "stdout",
     "output_type": "stream",
     "text": [
      "Pix per cell  16\n",
      "Cell per block  2\n",
      "Pix per cell  16\n",
      "Cell per block  2\n",
      "Pix per cell  16\n",
      "Cell per block  2\n"
     ]
    },
    {
     "name": "stderr",
     "output_type": "stream",
     "text": [
      "\r",
      " 49%|███████████████████████████████████████▊                                         | 62/126 [00:58<01:06,  1.04s/it]"
     ]
    },
    {
     "name": "stdout",
     "output_type": "stream",
     "text": [
      "Pix per cell  16\n",
      "Cell per block  2\n",
      "Pix per cell  16\n",
      "Cell per block  2\n",
      "Pix per cell  16\n",
      "Cell per block  2\n"
     ]
    },
    {
     "name": "stderr",
     "output_type": "stream",
     "text": [
      "\r",
      " 50%|████████████████████████████████████████▌                                        | 63/126 [00:59<01:07,  1.08s/it]"
     ]
    },
    {
     "name": "stdout",
     "output_type": "stream",
     "text": [
      "Pix per cell  16\n",
      "Cell per block  2\n",
      "Pix per cell  16\n",
      "Cell per block  2\n",
      "Pix per cell  16\n",
      "Cell per block  2\n"
     ]
    },
    {
     "name": "stderr",
     "output_type": "stream",
     "text": [
      "\r",
      " 51%|█████████████████████████████████████████▏                                       | 64/126 [01:00<01:05,  1.06s/it]"
     ]
    },
    {
     "name": "stdout",
     "output_type": "stream",
     "text": [
      "Pix per cell  16\n",
      "Cell per block  2\n",
      "Pix per cell  16\n",
      "Cell per block  2\n",
      "Pix per cell  16\n",
      "Cell per block  2\n"
     ]
    },
    {
     "name": "stderr",
     "output_type": "stream",
     "text": [
      "\r",
      " 52%|█████████████████████████████████████████▊                                       | 65/126 [01:01<01:05,  1.08s/it]"
     ]
    },
    {
     "name": "stdout",
     "output_type": "stream",
     "text": [
      "Pix per cell  16\n",
      "Cell per block  2\n",
      "Pix per cell  16\n",
      "Cell per block  2\n",
      "Pix per cell  16\n",
      "Cell per block  2\n"
     ]
    },
    {
     "name": "stderr",
     "output_type": "stream",
     "text": [
      "\r",
      " 52%|██████████████████████████████████████████▍                                      | 66/126 [01:02<01:02,  1.05s/it]"
     ]
    },
    {
     "name": "stdout",
     "output_type": "stream",
     "text": [
      "Pix per cell  16\n",
      "Cell per block  2\n",
      "Pix per cell  16\n",
      "Cell per block  2\n",
      "Pix per cell  16\n",
      "Cell per block  2\n"
     ]
    },
    {
     "name": "stderr",
     "output_type": "stream",
     "text": [
      "\r",
      " 53%|███████████████████████████████████████████                                      | 67/126 [01:03<01:00,  1.03s/it]"
     ]
    },
    {
     "name": "stdout",
     "output_type": "stream",
     "text": [
      "Pix per cell  16\n",
      "Cell per block  2\n",
      "Pix per cell  16\n",
      "Cell per block  2\n",
      "Pix per cell  16\n",
      "Cell per block  2\n"
     ]
    },
    {
     "name": "stderr",
     "output_type": "stream",
     "text": [
      "\r",
      " 54%|███████████████████████████████████████████▋                                     | 68/126 [01:04<00:58,  1.01s/it]"
     ]
    },
    {
     "name": "stdout",
     "output_type": "stream",
     "text": [
      "Pix per cell  16\n",
      "Cell per block  2\n",
      "Pix per cell  16\n",
      "Cell per block  2\n",
      "Pix per cell  16\n",
      "Cell per block  2\n"
     ]
    },
    {
     "name": "stderr",
     "output_type": "stream",
     "text": [
      "\r",
      " 55%|████████████████████████████████████████████▎                                    | 69/126 [01:06<01:07,  1.18s/it]"
     ]
    },
    {
     "name": "stdout",
     "output_type": "stream",
     "text": [
      "Pix per cell  16\n",
      "Cell per block  2\n",
      "Pix per cell  16\n",
      "Cell per block  2\n",
      "Pix per cell  16\n",
      "Cell per block  2\n"
     ]
    },
    {
     "name": "stderr",
     "output_type": "stream",
     "text": [
      "\r",
      " 56%|█████████████████████████████████████████████                                    | 70/126 [01:07<01:07,  1.20s/it]"
     ]
    },
    {
     "name": "stdout",
     "output_type": "stream",
     "text": [
      "Pix per cell  16\n",
      "Cell per block  2\n",
      "Pix per cell  16\n",
      "Cell per block  2\n",
      "Pix per cell  16\n",
      "Cell per block  2\n"
     ]
    },
    {
     "name": "stderr",
     "output_type": "stream",
     "text": [
      "\r",
      " 56%|█████████████████████████████████████████████▋                                   | 71/126 [01:08<00:59,  1.09s/it]"
     ]
    },
    {
     "name": "stdout",
     "output_type": "stream",
     "text": [
      "Pix per cell  16\n",
      "Cell per block  2\n",
      "Pix per cell  16\n",
      "Cell per block  2\n",
      "Pix per cell  16\n",
      "Cell per block  2\n"
     ]
    },
    {
     "name": "stderr",
     "output_type": "stream",
     "text": [
      "\r",
      " 57%|██████████████████████████████████████████████▎                                  | 72/126 [01:09<00:58,  1.08s/it]"
     ]
    },
    {
     "name": "stdout",
     "output_type": "stream",
     "text": [
      "Pix per cell  16\n",
      "Cell per block  2\n",
      "Pix per cell  16\n",
      "Cell per block  2\n",
      "Pix per cell  16\n",
      "Cell per block  2\n"
     ]
    },
    {
     "name": "stderr",
     "output_type": "stream",
     "text": [
      "\r",
      " 58%|██████████████████████████████████████████████▉                                  | 73/126 [01:10<00:53,  1.01s/it]"
     ]
    },
    {
     "name": "stdout",
     "output_type": "stream",
     "text": [
      "Pix per cell  16\n",
      "Cell per block  2\n",
      "Pix per cell  16\n",
      "Cell per block  2\n",
      "Pix per cell  16\n",
      "Cell per block  2\n"
     ]
    },
    {
     "name": "stderr",
     "output_type": "stream",
     "text": [
      "\r",
      " 59%|███████████████████████████████████████████████▌                                 | 74/126 [01:11<00:52,  1.01s/it]"
     ]
    },
    {
     "name": "stdout",
     "output_type": "stream",
     "text": [
      "Pix per cell  16\n",
      "Cell per block  2\n",
      "Pix per cell  16\n",
      "Cell per block  2\n",
      "Pix per cell  16\n",
      "Cell per block  2\n"
     ]
    },
    {
     "name": "stderr",
     "output_type": "stream",
     "text": [
      "\r",
      " 60%|████████████████████████████████████████████████▏                                | 75/126 [01:12<00:53,  1.05s/it]"
     ]
    },
    {
     "name": "stdout",
     "output_type": "stream",
     "text": [
      "Pix per cell  16\n",
      "Cell per block  2\n",
      "Pix per cell  16\n",
      "Cell per block  2\n",
      "Pix per cell  16\n",
      "Cell per block  2\n"
     ]
    },
    {
     "name": "stderr",
     "output_type": "stream",
     "text": [
      "\r",
      " 60%|████████████████████████████████████████████████▊                                | 76/126 [01:13<00:52,  1.05s/it]"
     ]
    },
    {
     "name": "stdout",
     "output_type": "stream",
     "text": [
      "Pix per cell  16\n",
      "Cell per block  2\n",
      "Pix per cell  16\n",
      "Cell per block  2\n",
      "Pix per cell  16\n",
      "Cell per block  2\n"
     ]
    },
    {
     "name": "stderr",
     "output_type": "stream",
     "text": [
      "\r",
      " 61%|█████████████████████████████████████████████████▌                               | 77/126 [01:14<00:48,  1.00it/s]"
     ]
    },
    {
     "name": "stdout",
     "output_type": "stream",
     "text": [
      "Pix per cell  16\n",
      "Cell per block  2\n",
      "Pix per cell  16\n",
      "Cell per block  2\n",
      "Pix per cell  16\n",
      "Cell per block  2\n"
     ]
    },
    {
     "name": "stderr",
     "output_type": "stream",
     "text": [
      "\r",
      " 62%|██████████████████████████████████████████████████▏                              | 78/126 [01:15<00:45,  1.05it/s]"
     ]
    },
    {
     "name": "stdout",
     "output_type": "stream",
     "text": [
      "Pix per cell  16\n",
      "Cell per block  2\n",
      "Pix per cell  16\n",
      "Cell per block  2\n",
      "Pix per cell  16\n",
      "Cell per block  2\n"
     ]
    },
    {
     "name": "stderr",
     "output_type": "stream",
     "text": [
      "\r",
      " 63%|██████████████████████████████████████████████████▊                              | 79/126 [01:15<00:43,  1.08it/s]"
     ]
    },
    {
     "name": "stdout",
     "output_type": "stream",
     "text": [
      "Pix per cell  16\n",
      "Cell per block  2\n",
      "Pix per cell  16\n",
      "Cell per block  2\n",
      "Pix per cell  16\n",
      "Cell per block  2\n"
     ]
    },
    {
     "name": "stderr",
     "output_type": "stream",
     "text": [
      "\r",
      " 63%|███████████████████████████████████████████████████▍                             | 80/126 [01:16<00:41,  1.10it/s]"
     ]
    },
    {
     "name": "stdout",
     "output_type": "stream",
     "text": [
      "Pix per cell  16\n",
      "Cell per block  2\n",
      "Pix per cell  16\n",
      "Cell per block  2\n",
      "Pix per cell  16\n",
      "Cell per block  2\n"
     ]
    },
    {
     "name": "stderr",
     "output_type": "stream",
     "text": [
      "\r",
      " 64%|████████████████████████████████████████████████████                             | 81/126 [01:17<00:40,  1.11it/s]"
     ]
    },
    {
     "name": "stdout",
     "output_type": "stream",
     "text": [
      "Pix per cell  16\n",
      "Cell per block  2\n",
      "Pix per cell  16\n",
      "Cell per block  2\n",
      "Pix per cell  16\n",
      "Cell per block  2\n"
     ]
    },
    {
     "name": "stderr",
     "output_type": "stream",
     "text": [
      "\r",
      " 65%|████████████████████████████████████████████████████▋                            | 82/126 [01:18<00:38,  1.14it/s]"
     ]
    },
    {
     "name": "stdout",
     "output_type": "stream",
     "text": [
      "Pix per cell  16\n",
      "Cell per block  2\n",
      "Pix per cell  16\n",
      "Cell per block  2\n",
      "Pix per cell  16\n",
      "Cell per block  2\n"
     ]
    },
    {
     "name": "stderr",
     "output_type": "stream",
     "text": [
      "\r",
      " 66%|█████████████████████████████████████████████████████▎                           | 83/126 [01:19<00:39,  1.10it/s]"
     ]
    },
    {
     "name": "stdout",
     "output_type": "stream",
     "text": [
      "Pix per cell  16\n",
      "Cell per block  2\n",
      "Pix per cell  16\n",
      "Cell per block  2\n",
      "Pix per cell  16\n",
      "Cell per block  2\n"
     ]
    },
    {
     "name": "stderr",
     "output_type": "stream",
     "text": [
      "\r",
      " 67%|██████████████████████████████████████████████████████                           | 84/126 [01:20<00:37,  1.12it/s]"
     ]
    },
    {
     "name": "stdout",
     "output_type": "stream",
     "text": [
      "Pix per cell  16\n",
      "Cell per block  2\n",
      "Pix per cell  16\n",
      "Cell per block  2\n",
      "Pix per cell  16\n",
      "Cell per block  2\n"
     ]
    },
    {
     "name": "stderr",
     "output_type": "stream",
     "text": [
      "\r",
      " 67%|██████████████████████████████████████████████████████▋                          | 85/126 [01:21<00:36,  1.13it/s]"
     ]
    },
    {
     "name": "stdout",
     "output_type": "stream",
     "text": [
      "Pix per cell  16\n",
      "Cell per block  2\n",
      "Pix per cell  16\n",
      "Cell per block  2\n",
      "Pix per cell  16\n",
      "Cell per block  2\n"
     ]
    },
    {
     "name": "stderr",
     "output_type": "stream",
     "text": [
      "\r",
      " 68%|███████████████████████████████████████████████████████▎                         | 86/126 [01:22<00:36,  1.11it/s]"
     ]
    },
    {
     "name": "stdout",
     "output_type": "stream",
     "text": [
      "Pix per cell  16\n",
      "Cell per block  2\n",
      "Pix per cell  16\n",
      "Cell per block  2\n",
      "Pix per cell  16\n",
      "Cell per block  2\n"
     ]
    },
    {
     "name": "stderr",
     "output_type": "stream",
     "text": [
      "\r",
      " 69%|███████████████████████████████████████████████████████▉                         | 87/126 [01:23<00:35,  1.11it/s]"
     ]
    },
    {
     "name": "stdout",
     "output_type": "stream",
     "text": [
      "Pix per cell  16\n",
      "Cell per block  2\n",
      "Pix per cell  16\n",
      "Cell per block  2\n",
      "Pix per cell  16\n",
      "Cell per block  2\n"
     ]
    },
    {
     "name": "stderr",
     "output_type": "stream",
     "text": [
      "\r",
      " 70%|████████████████████████████████████████████████████████▌                        | 88/126 [01:23<00:33,  1.12it/s]"
     ]
    },
    {
     "name": "stdout",
     "output_type": "stream",
     "text": [
      "Pix per cell  16\n",
      "Cell per block  2\n",
      "Pix per cell  16\n",
      "Cell per block  2\n",
      "Pix per cell  16\n",
      "Cell per block  2\n"
     ]
    },
    {
     "name": "stderr",
     "output_type": "stream",
     "text": [
      "\r",
      " 71%|█████████████████████████████████████████████████████████▏                       | 89/126 [01:24<00:33,  1.12it/s]"
     ]
    },
    {
     "name": "stdout",
     "output_type": "stream",
     "text": [
      "Pix per cell  16\n",
      "Cell per block  2\n",
      "Pix per cell  16\n",
      "Cell per block  2\n",
      "Pix per cell  16\n",
      "Cell per block  2\n"
     ]
    },
    {
     "name": "stderr",
     "output_type": "stream",
     "text": [
      "\r",
      " 71%|█████████████████████████████████████████████████████████▊                       | 90/126 [01:25<00:31,  1.13it/s]"
     ]
    },
    {
     "name": "stdout",
     "output_type": "stream",
     "text": [
      "Pix per cell  16\n",
      "Cell per block  2\n",
      "Pix per cell  16\n",
      "Cell per block  2\n",
      "Pix per cell  16\n",
      "Cell per block  2\n"
     ]
    },
    {
     "name": "stderr",
     "output_type": "stream",
     "text": [
      "\r",
      " 72%|██████████████████████████████████████████████████████████▌                      | 91/126 [01:26<00:30,  1.16it/s]"
     ]
    },
    {
     "name": "stdout",
     "output_type": "stream",
     "text": [
      "Pix per cell  16\n",
      "Cell per block  2\n",
      "Pix per cell  16\n",
      "Cell per block  2\n",
      "Pix per cell  16\n",
      "Cell per block  2\n"
     ]
    },
    {
     "name": "stderr",
     "output_type": "stream",
     "text": [
      "\r",
      " 73%|███████████████████████████████████████████████████████████▏                     | 92/126 [01:27<00:29,  1.16it/s]"
     ]
    },
    {
     "name": "stdout",
     "output_type": "stream",
     "text": [
      "Pix per cell  16\n",
      "Cell per block  2\n",
      "Pix per cell  16\n",
      "Cell per block  2\n",
      "Pix per cell  16\n",
      "Cell per block  2\n"
     ]
    },
    {
     "name": "stderr",
     "output_type": "stream",
     "text": [
      "\r",
      " 74%|███████████████████████████████████████████████████████████▊                     | 93/126 [01:28<00:28,  1.16it/s]"
     ]
    },
    {
     "name": "stdout",
     "output_type": "stream",
     "text": [
      "Pix per cell  16\n",
      "Cell per block  2\n",
      "Pix per cell  16\n",
      "Cell per block  2\n",
      "Pix per cell  16\n",
      "Cell per block  2\n"
     ]
    },
    {
     "name": "stderr",
     "output_type": "stream",
     "text": [
      "\r",
      " 75%|████████████████████████████████████████████████████████████▍                    | 94/126 [01:29<00:27,  1.16it/s]"
     ]
    },
    {
     "name": "stdout",
     "output_type": "stream",
     "text": [
      "Pix per cell  16\n",
      "Cell per block  2\n",
      "Pix per cell  16\n",
      "Cell per block  2\n",
      "Pix per cell  16\n",
      "Cell per block  2\n"
     ]
    },
    {
     "name": "stderr",
     "output_type": "stream",
     "text": [
      "\r",
      " 75%|█████████████████████████████████████████████████████████████                    | 95/126 [01:29<00:26,  1.18it/s]"
     ]
    },
    {
     "name": "stdout",
     "output_type": "stream",
     "text": [
      "Pix per cell  16\n",
      "Cell per block  2\n",
      "Pix per cell  16\n",
      "Cell per block  2\n",
      "Pix per cell  16\n",
      "Cell per block  2\n"
     ]
    },
    {
     "name": "stderr",
     "output_type": "stream",
     "text": [
      "\r",
      " 76%|█████████████████████████████████████████████████████████████▋                   | 96/126 [01:30<00:25,  1.18it/s]"
     ]
    },
    {
     "name": "stdout",
     "output_type": "stream",
     "text": [
      "Pix per cell  16\n",
      "Cell per block  2\n",
      "Pix per cell  16\n",
      "Cell per block  2\n",
      "Pix per cell  16\n",
      "Cell per block  2\n"
     ]
    },
    {
     "name": "stderr",
     "output_type": "stream",
     "text": [
      "\r",
      " 77%|██████████████████████████████████████████████████████████████▎                  | 97/126 [01:31<00:24,  1.16it/s]"
     ]
    },
    {
     "name": "stdout",
     "output_type": "stream",
     "text": [
      "Pix per cell  16\n",
      "Cell per block  2\n",
      "Pix per cell  16\n",
      "Cell per block  2\n",
      "Pix per cell  16\n",
      "Cell per block  2\n"
     ]
    },
    {
     "name": "stderr",
     "output_type": "stream",
     "text": [
      "\r",
      " 78%|███████████████████████████████████████████████████████████████                  | 98/126 [01:32<00:23,  1.18it/s]"
     ]
    },
    {
     "name": "stdout",
     "output_type": "stream",
     "text": [
      "Pix per cell  16\n",
      "Cell per block  2\n",
      "Pix per cell  16\n",
      "Cell per block  2\n",
      "Pix per cell  16\n",
      "Cell per block  2\n"
     ]
    },
    {
     "name": "stderr",
     "output_type": "stream",
     "text": [
      "\r",
      " 79%|███████████████████████████████████████████████████████████████▋                 | 99/126 [01:33<00:23,  1.16it/s]"
     ]
    },
    {
     "name": "stdout",
     "output_type": "stream",
     "text": [
      "Pix per cell  16\n",
      "Cell per block  2\n",
      "Pix per cell  16\n",
      "Cell per block  2\n",
      "Pix per cell  16\n",
      "Cell per block  2\n"
     ]
    },
    {
     "name": "stderr",
     "output_type": "stream",
     "text": [
      "\r",
      " 79%|███████████████████████████████████████████████████████████████▍                | 100/126 [01:34<00:23,  1.10it/s]"
     ]
    },
    {
     "name": "stdout",
     "output_type": "stream",
     "text": [
      "Pix per cell  16\n",
      "Cell per block  2\n",
      "Pix per cell  16\n",
      "Cell per block  2\n",
      "Pix per cell  16\n",
      "Cell per block  2\n"
     ]
    },
    {
     "name": "stderr",
     "output_type": "stream",
     "text": [
      "\r",
      " 80%|████████████████████████████████████████████████████████████████▏               | 101/126 [01:35<00:23,  1.08it/s]"
     ]
    },
    {
     "name": "stdout",
     "output_type": "stream",
     "text": [
      "Pix per cell  16\n",
      "Cell per block  2\n",
      "Pix per cell  16\n",
      "Cell per block  2\n",
      "Pix per cell  16\n",
      "Cell per block  2\n"
     ]
    },
    {
     "name": "stderr",
     "output_type": "stream",
     "text": [
      "\r",
      " 81%|████████████████████████████████████████████████████████████████▊               | 102/126 [01:36<00:22,  1.07it/s]"
     ]
    },
    {
     "name": "stdout",
     "output_type": "stream",
     "text": [
      "Pix per cell  16\n",
      "Cell per block  2\n",
      "Pix per cell  16\n",
      "Cell per block  2\n",
      "Pix per cell  16\n",
      "Cell per block  2\n"
     ]
    },
    {
     "name": "stderr",
     "output_type": "stream",
     "text": [
      "\r",
      " 82%|█████████████████████████████████████████████████████████████████▍              | 103/126 [01:37<00:20,  1.11it/s]"
     ]
    },
    {
     "name": "stdout",
     "output_type": "stream",
     "text": [
      "Pix per cell  16\n",
      "Cell per block  2\n",
      "Pix per cell  16\n",
      "Cell per block  2\n",
      "Pix per cell  16\n",
      "Cell per block  2\n"
     ]
    },
    {
     "name": "stderr",
     "output_type": "stream",
     "text": [
      "\r",
      " 83%|██████████████████████████████████████████████████████████████████              | 104/126 [01:37<00:20,  1.10it/s]"
     ]
    },
    {
     "name": "stdout",
     "output_type": "stream",
     "text": [
      "Pix per cell  16\n",
      "Cell per block  2\n",
      "Pix per cell  16\n",
      "Cell per block  2\n",
      "Pix per cell  16\n",
      "Cell per block  2\n"
     ]
    },
    {
     "name": "stderr",
     "output_type": "stream",
     "text": [
      "\r",
      " 83%|██████████████████████████████████████████████████████████████████▋             | 105/126 [01:38<00:18,  1.11it/s]"
     ]
    },
    {
     "name": "stdout",
     "output_type": "stream",
     "text": [
      "Pix per cell  16\n",
      "Cell per block  2\n",
      "Pix per cell  16\n",
      "Cell per block  2\n",
      "Pix per cell  16\n",
      "Cell per block  2\n"
     ]
    },
    {
     "name": "stderr",
     "output_type": "stream",
     "text": [
      "\r",
      " 84%|███████████████████████████████████████████████████████████████████▎            | 106/126 [01:39<00:17,  1.12it/s]"
     ]
    },
    {
     "name": "stdout",
     "output_type": "stream",
     "text": [
      "Pix per cell  16\n",
      "Cell per block  2\n",
      "Pix per cell  16\n",
      "Cell per block  2\n",
      "Pix per cell  16\n",
      "Cell per block  2\n"
     ]
    },
    {
     "name": "stderr",
     "output_type": "stream",
     "text": [
      "\r",
      " 85%|███████████████████████████████████████████████████████████████████▉            | 107/126 [01:40<00:17,  1.10it/s]"
     ]
    },
    {
     "name": "stdout",
     "output_type": "stream",
     "text": [
      "Pix per cell  16\n",
      "Cell per block  2\n",
      "Pix per cell  16\n",
      "Cell per block  2\n",
      "Pix per cell  16\n",
      "Cell per block  2\n"
     ]
    },
    {
     "name": "stderr",
     "output_type": "stream",
     "text": [
      "\r",
      " 86%|████████████████████████████████████████████████████████████████████▌           | 108/126 [01:41<00:15,  1.14it/s]"
     ]
    },
    {
     "name": "stdout",
     "output_type": "stream",
     "text": [
      "Pix per cell  16\n",
      "Cell per block  2\n",
      "Pix per cell  16\n",
      "Cell per block  2\n",
      "Pix per cell  16\n",
      "Cell per block  2\n"
     ]
    },
    {
     "name": "stderr",
     "output_type": "stream",
     "text": [
      "\r",
      " 87%|█████████████████████████████████████████████████████████████████████▏          | 109/126 [01:42<00:14,  1.15it/s]"
     ]
    },
    {
     "name": "stdout",
     "output_type": "stream",
     "text": [
      "Pix per cell  16\n",
      "Cell per block  2\n",
      "Pix per cell  16\n",
      "Cell per block  2\n",
      "Pix per cell  16\n",
      "Cell per block  2\n"
     ]
    },
    {
     "name": "stderr",
     "output_type": "stream",
     "text": [
      "\r",
      " 87%|█████████████████████████████████████████████████████████████████████▊          | 110/126 [01:43<00:13,  1.15it/s]"
     ]
    },
    {
     "name": "stdout",
     "output_type": "stream",
     "text": [
      "Pix per cell  16\n",
      "Cell per block  2\n",
      "Pix per cell  16\n",
      "Cell per block  2\n",
      "Pix per cell  16\n",
      "Cell per block  2\n"
     ]
    },
    {
     "name": "stderr",
     "output_type": "stream",
     "text": [
      "\r",
      " 88%|██████████████████████████████████████████████████████████████████████▍         | 111/126 [01:44<00:13,  1.10it/s]"
     ]
    },
    {
     "name": "stdout",
     "output_type": "stream",
     "text": [
      "Pix per cell  16\n",
      "Cell per block  2\n",
      "Pix per cell  16\n",
      "Cell per block  2\n",
      "Pix per cell  16\n",
      "Cell per block  2\n"
     ]
    },
    {
     "name": "stderr",
     "output_type": "stream",
     "text": [
      "\r",
      " 89%|███████████████████████████████████████████████████████████████████████         | 112/126 [01:45<00:12,  1.12it/s]"
     ]
    },
    {
     "name": "stdout",
     "output_type": "stream",
     "text": [
      "Pix per cell  16\n",
      "Cell per block  2\n",
      "Pix per cell  16\n",
      "Cell per block  2\n",
      "Pix per cell  16\n",
      "Cell per block  2\n"
     ]
    },
    {
     "name": "stderr",
     "output_type": "stream",
     "text": [
      "\r",
      " 90%|███████████████████████████████████████████████████████████████████████▋        | 113/126 [01:45<00:11,  1.14it/s]"
     ]
    },
    {
     "name": "stdout",
     "output_type": "stream",
     "text": [
      "Pix per cell  16\n",
      "Cell per block  2\n",
      "Pix per cell  16\n",
      "Cell per block  2\n",
      "Pix per cell  16\n",
      "Cell per block  2\n"
     ]
    },
    {
     "name": "stderr",
     "output_type": "stream",
     "text": [
      "\r",
      " 90%|████████████████████████████████████████████████████████████████████████▍       | 114/126 [01:46<00:10,  1.15it/s]"
     ]
    },
    {
     "name": "stdout",
     "output_type": "stream",
     "text": [
      "Pix per cell  16\n",
      "Cell per block  2\n",
      "Pix per cell  16\n",
      "Cell per block  2\n",
      "Pix per cell  16\n",
      "Cell per block  2\n"
     ]
    },
    {
     "name": "stderr",
     "output_type": "stream",
     "text": [
      "\r",
      " 91%|█████████████████████████████████████████████████████████████████████████       | 115/126 [01:47<00:09,  1.15it/s]"
     ]
    },
    {
     "name": "stdout",
     "output_type": "stream",
     "text": [
      "Pix per cell  16\n",
      "Cell per block  2\n",
      "Pix per cell  16\n",
      "Cell per block  2\n",
      "Pix per cell  16\n",
      "Cell per block  2\n"
     ]
    },
    {
     "name": "stderr",
     "output_type": "stream",
     "text": [
      "\r",
      " 92%|█████████████████████████████████████████████████████████████████████████▋      | 116/126 [01:48<00:08,  1.15it/s]"
     ]
    },
    {
     "name": "stdout",
     "output_type": "stream",
     "text": [
      "Pix per cell  16\n",
      "Cell per block  2\n",
      "Pix per cell  16\n",
      "Cell per block  2\n",
      "Pix per cell  16\n",
      "Cell per block  2\n"
     ]
    },
    {
     "name": "stderr",
     "output_type": "stream",
     "text": [
      "\r",
      " 93%|██████████████████████████████████████████████████████████████████████████▎     | 117/126 [01:49<00:07,  1.17it/s]"
     ]
    },
    {
     "name": "stdout",
     "output_type": "stream",
     "text": [
      "Pix per cell  16\n",
      "Cell per block  2\n",
      "Pix per cell  16\n",
      "Cell per block  2\n",
      "Pix per cell  16\n",
      "Cell per block  2\n"
     ]
    },
    {
     "name": "stderr",
     "output_type": "stream",
     "text": [
      "\r",
      " 94%|██████████████████████████████████████████████████████████████████████████▉     | 118/126 [01:50<00:06,  1.16it/s]"
     ]
    },
    {
     "name": "stdout",
     "output_type": "stream",
     "text": [
      "Pix per cell  16\n",
      "Cell per block  2\n",
      "Pix per cell  16\n",
      "Cell per block  2\n",
      "Pix per cell  16\n",
      "Cell per block  2\n"
     ]
    },
    {
     "name": "stderr",
     "output_type": "stream",
     "text": [
      "\r",
      " 94%|███████████████████████████████████████████████████████████████████████████▌    | 119/126 [01:51<00:06,  1.17it/s]"
     ]
    },
    {
     "name": "stdout",
     "output_type": "stream",
     "text": [
      "Pix per cell  16\n",
      "Cell per block  2\n",
      "Pix per cell  16\n",
      "Cell per block  2\n",
      "Pix per cell  16\n",
      "Cell per block  2\n"
     ]
    },
    {
     "name": "stderr",
     "output_type": "stream",
     "text": [
      "\r",
      " 95%|████████████████████████████████████████████████████████████████████████████▏   | 120/126 [01:52<00:05,  1.12it/s]"
     ]
    },
    {
     "name": "stdout",
     "output_type": "stream",
     "text": [
      "Pix per cell  16\n",
      "Cell per block  2\n",
      "Pix per cell  16\n",
      "Cell per block  2\n",
      "Pix per cell  16\n",
      "Cell per block  2\n"
     ]
    },
    {
     "name": "stderr",
     "output_type": "stream",
     "text": [
      "\r",
      " 96%|████████████████████████████████████████████████████████████████████████████▊   | 121/126 [01:53<00:04,  1.08it/s]"
     ]
    },
    {
     "name": "stdout",
     "output_type": "stream",
     "text": [
      "Pix per cell  16\n",
      "Cell per block  2\n",
      "Pix per cell  16\n",
      "Cell per block  2\n",
      "Pix per cell  16\n",
      "Cell per block  2\n"
     ]
    },
    {
     "name": "stderr",
     "output_type": "stream",
     "text": [
      "\r",
      " 97%|█████████████████████████████████████████████████████████████████████████████▍  | 122/126 [01:53<00:03,  1.10it/s]"
     ]
    },
    {
     "name": "stdout",
     "output_type": "stream",
     "text": [
      "Pix per cell  16\n",
      "Cell per block  2\n",
      "Pix per cell  16\n",
      "Cell per block  2\n",
      "Pix per cell  16\n",
      "Cell per block  2\n"
     ]
    },
    {
     "name": "stderr",
     "output_type": "stream",
     "text": [
      "\r",
      " 98%|██████████████████████████████████████████████████████████████████████████████  | 123/126 [01:54<00:02,  1.03it/s]"
     ]
    },
    {
     "name": "stdout",
     "output_type": "stream",
     "text": [
      "Pix per cell  16\n",
      "Cell per block  2\n",
      "Pix per cell  16\n",
      "Cell per block  2\n",
      "Pix per cell  16\n",
      "Cell per block  2\n"
     ]
    },
    {
     "name": "stderr",
     "output_type": "stream",
     "text": [
      "\r",
      " 98%|██████████████████████████████████████████████████████████████████████████████▋ | 124/126 [01:56<00:01,  1.02it/s]"
     ]
    },
    {
     "name": "stdout",
     "output_type": "stream",
     "text": [
      "Pix per cell  16\n",
      "Cell per block  2\n",
      "Pix per cell  16\n",
      "Cell per block  2\n",
      "Pix per cell  16\n",
      "Cell per block  2\n"
     ]
    },
    {
     "name": "stderr",
     "output_type": "stream",
     "text": [
      " 99%|███████████████████████████████████████████████████████████████████████████████▎| 125/126 [01:57<00:01,  1.16s/it]\n"
     ]
    },
    {
     "name": "stdout",
     "output_type": "stream",
     "text": [
      "[MoviePy] Done.\n",
      "[MoviePy] >>>> Video ready: project_video_out.mp4 \n",
      "\n",
      "Wall time: 2min\n"
     ]
    }
   ],
   "source": [
    "from moviepy.editor import VideoFileClip\n",
    "from IPython.display import HTML\n",
    "\n",
    "write_output = 'project_video_out.mp4'\n",
    "clip1 = VideoFileClip(\"project_video.mp4\").subclip(10,15)\n",
    "write_clip = clip1.fl_image(pipeline)\n",
    "%time write_clip.write_videofile(write_output, audio=False)"
   ]
  }
 ],
 "metadata": {
  "kernelspec": {
   "display_name": "Python 3",
   "language": "python",
   "name": "python3"
  },
  "language_info": {
   "codemirror_mode": {
    "name": "ipython",
    "version": 3
   },
   "file_extension": ".py",
   "mimetype": "text/x-python",
   "name": "python",
   "nbconvert_exporter": "python",
   "pygments_lexer": "ipython3",
   "version": "3.5.2"
  },
  "widgets": {
   "state": {},
   "version": "1.1.2"
  }
 },
 "nbformat": 4,
 "nbformat_minor": 2
}
